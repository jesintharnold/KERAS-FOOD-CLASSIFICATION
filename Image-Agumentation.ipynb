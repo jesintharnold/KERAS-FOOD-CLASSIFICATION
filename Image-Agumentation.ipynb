{
 "cells": [
  {
   "cell_type": "code",
   "execution_count": 1,
   "metadata": {},
   "outputs": [],
   "source": [
    "from keras.preprocessing.image import ImageDataGenerator\n",
    "Img_generator=ImageDataGenerator(\n",
    "    rescale=1.0/255,\n",
    "    horizontal_flip=True,\n",
    "    vertical_flip=True,\n",
    "    width_shift_range=0.5,\n",
    "    rotation_range=70,\n",
    "    brightness_range=[0.1,0.7],\n",
    "    shear_range=45.0,\n",
    "    validation_split=0.15,\n",
    "    zoom_range=0.4,\n",
    "    height_shift_range=0.5,\n",
    "    channel_shift_range=100.0,\n",
    "    fill_mode=\"nearest\"\n",
    ")"
   ]
  },
  {
   "cell_type": "code",
   "execution_count": 2,
   "metadata": {},
   "outputs": [
    {
     "name": "stdout",
     "output_type": "stream",
     "text": [
      "Found 3750 images belonging to 5 classes.\n",
      "Found 1250 images belonging to 5 classes.\n"
     ]
    }
   ],
   "source": [
    "import os\n",
    "os.environ[\"KMP_DUPLICATE_LIB_OK\"]=\"TRUE\"\n",
    "\n",
    "Root_image_path=\"H:/FOOD_CLASSIFY/food-101/images\"\n",
    "class_list=sorted(os.listdir(Root_image_path))[:5]\n",
    "\n",
    "traingen=Img_generator.flow_from_directory(\n",
    "    \"H:/FOOD_CLASSIFY/Image_collection/Train\",\n",
    "    batch_size=30,\n",
    "    target_size=(128,128),\n",
    "    class_mode=\"categorical\",\n",
    "    shuffle=True,\n",
    "    classes=class_list\n",
    ")\n",
    "testgen=Img_generator.flow_from_directory(\n",
    "    \"H:/FOOD_CLASSIFY/Image_collection/Test\",\n",
    "    batch_size=30,\n",
    "    target_size=(128,128),\n",
    "    class_mode=\"categorical\",\n",
    "    shuffle=False,\n",
    "    classes=class_list\n",
    ")"
   ]
  },
  {
   "cell_type": "code",
   "execution_count": 3,
   "metadata": {},
   "outputs": [],
   "source": [
    "from keras.models import Sequential\n",
    "from keras.layers import Flatten,Conv2D,Dense,MaxPooling2D,Dropout\n",
    "\n",
    "\n",
    "Model=Sequential([\n",
    "    Conv2D(filters=32,kernel_size=(3,3),padding=\"same\",activation=\"relu\",input_shape=(128,128,3),strides=(1,1)),\n",
    "    MaxPooling2D(pool_size=(2,2)),\n",
    "    Dropout(0.2),\n",
    "\n",
    "    Conv2D(filters=64,kernel_size=(3,3),activation=\"relu\"),\n",
    "    MaxPooling2D(pool_size=(2,2)),\n",
    "    Dropout(0.2),\n",
    "\n",
    "    Conv2D(filters=128,kernel_size=(3,3),activation=\"relu\"),\n",
    "    MaxPooling2D(pool_size=(2,2)),\n",
    "    Dropout(0.2),\n",
    "\n",
    "    Conv2D(filters=256,kernel_size=(3,3),activation=\"relu\"),\n",
    "    MaxPooling2D(pool_size=(2,2)),\n",
    "    Dropout(0.2),\n",
    "\n",
    "    Conv2D(filters=512,kernel_size=(3,3),activation=\"relu\"),\n",
    "    MaxPooling2D(pool_size=(2,2)),\n",
    "    Dropout(0.2),\n",
    "\n",
    "    Flatten(),\n",
    "    Dense(1024,activation=\"relu\"),\n",
    "    Dropout(0.2),\n",
    "\n",
    "    Dense(len(class_list),activation=\"softmax\")\n",
    "])"
   ]
  },
  {
   "cell_type": "code",
   "execution_count": 4,
   "metadata": {},
   "outputs": [
    {
     "name": "stdout",
     "output_type": "stream",
     "text": [
      "Model: \"sequential\"\n",
      "_________________________________________________________________\n",
      " Layer (type)                Output Shape              Param #   \n",
      "=================================================================\n",
      " conv2d (Conv2D)             (None, 128, 128, 32)      896       \n",
      "                                                                 \n",
      " max_pooling2d (MaxPooling2D  (None, 64, 64, 32)       0         \n",
      " )                                                               \n",
      "                                                                 \n",
      " dropout (Dropout)           (None, 64, 64, 32)        0         \n",
      "                                                                 \n",
      " conv2d_1 (Conv2D)           (None, 62, 62, 64)        18496     \n",
      "                                                                 \n",
      " max_pooling2d_1 (MaxPooling  (None, 31, 31, 64)       0         \n",
      " 2D)                                                             \n",
      "                                                                 \n",
      " dropout_1 (Dropout)         (None, 31, 31, 64)        0         \n",
      "                                                                 \n",
      " conv2d_2 (Conv2D)           (None, 29, 29, 128)       73856     \n",
      "                                                                 \n",
      " max_pooling2d_2 (MaxPooling  (None, 14, 14, 128)      0         \n",
      " 2D)                                                             \n",
      "                                                                 \n",
      " dropout_2 (Dropout)         (None, 14, 14, 128)       0         \n",
      "                                                                 \n",
      " conv2d_3 (Conv2D)           (None, 12, 12, 256)       295168    \n",
      "                                                                 \n",
      " max_pooling2d_3 (MaxPooling  (None, 6, 6, 256)        0         \n",
      " 2D)                                                             \n",
      "                                                                 \n",
      " dropout_3 (Dropout)         (None, 6, 6, 256)         0         \n",
      "                                                                 \n",
      " conv2d_4 (Conv2D)           (None, 4, 4, 512)         1180160   \n",
      "                                                                 \n",
      " max_pooling2d_4 (MaxPooling  (None, 2, 2, 512)        0         \n",
      " 2D)                                                             \n",
      "                                                                 \n",
      " dropout_4 (Dropout)         (None, 2, 2, 512)         0         \n",
      "                                                                 \n",
      " flatten (Flatten)           (None, 2048)              0         \n",
      "                                                                 \n",
      " dense (Dense)               (None, 1024)              2098176   \n",
      "                                                                 \n",
      " dropout_5 (Dropout)         (None, 1024)              0         \n",
      "                                                                 \n",
      " dense_1 (Dense)             (None, 5)                 5125      \n",
      "                                                                 \n",
      "=================================================================\n",
      "Total params: 3,671,877\n",
      "Trainable params: 3,671,877\n",
      "Non-trainable params: 0\n",
      "_________________________________________________________________\n"
     ]
    }
   ],
   "source": [
    "Model.summary()"
   ]
  },
  {
   "cell_type": "code",
   "execution_count": 5,
   "metadata": {},
   "outputs": [],
   "source": [
    "from keras.callbacks import EarlyStopping\n",
    "early_stop = EarlyStopping(monitor='val_loss',patience=5)"
   ]
  },
  {
   "cell_type": "code",
   "execution_count": 6,
   "metadata": {},
   "outputs": [],
   "source": [
    "Model.compile(loss=\"categorical_crossentropy\",optimizer=\"adam\",metrics=[\"accuracy\"])"
   ]
  },
  {
   "cell_type": "code",
   "execution_count": 7,
   "metadata": {},
   "outputs": [
    {
     "data": {
      "text/plain": [
       "<keras.callbacks.History at 0x2599b094070>"
      ]
     },
     "execution_count": 7,
     "metadata": {},
     "output_type": "execute_result"
    }
   ],
   "source": [
    "Model.fit(traingen,epochs=5,validation_data=testgen,\n",
    "callbacks=[early_stop],\n",
    "verbose=False)"
   ]
  },
  {
   "cell_type": "code",
   "execution_count": 8,
   "metadata": {},
   "outputs": [
    {
     "data": {
      "text/plain": [
       "{'loss': [1.6132421493530273,\n",
       "  1.6127382516860962,\n",
       "  1.6100099086761475,\n",
       "  1.609881043434143,\n",
       "  1.6096673011779785],\n",
       " 'accuracy': [0.19493333995342255,\n",
       "  0.18773333728313446,\n",
       "  0.19733333587646484,\n",
       "  0.19013333320617676,\n",
       "  0.19866666197776794],\n",
       " 'val_loss': [1.6060123443603516,\n",
       "  1.60963773727417,\n",
       "  1.6094579696655273,\n",
       "  1.609452486038208,\n",
       "  1.6094425916671753],\n",
       " 'val_accuracy': [0.2655999958515167,\n",
       "  0.20000000298023224,\n",
       "  0.20000000298023224,\n",
       "  0.20000000298023224,\n",
       "  0.20000000298023224]}"
      ]
     },
     "execution_count": 8,
     "metadata": {},
     "output_type": "execute_result"
    }
   ],
   "source": []
  }
 ],
 "metadata": {
  "kernelspec": {
   "display_name": "Deeplearning",
   "language": "python",
   "name": "python3"
  },
  "language_info": {
   "codemirror_mode": {
    "name": "ipython",
    "version": 3
   },
   "file_extension": ".py",
   "mimetype": "text/x-python",
   "name": "python",
   "nbconvert_exporter": "python",
   "pygments_lexer": "ipython3",
   "version": "3.10.8"
  },
  "orig_nbformat": 4,
  "vscode": {
   "interpreter": {
    "hash": "4e4c2f0179f0a9c8db65c73278e86903d0a510367367db5b241f3972eeb577a6"
   }
  }
 },
 "nbformat": 4,
 "nbformat_minor": 2
}
