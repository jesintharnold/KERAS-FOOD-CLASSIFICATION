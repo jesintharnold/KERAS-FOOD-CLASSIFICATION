{
 "cells": [
  {
   "cell_type": "code",
   "execution_count": 1,
   "metadata": {},
   "outputs": [],
   "source": [
    "import os\n",
    "import shutil\n",
    "import json"
   ]
  },
  {
   "cell_type": "code",
   "execution_count": 7,
   "metadata": {},
   "outputs": [],
   "source": [
    "#Meta dictionary\n",
    "meta_files={\n",
    "    \"Train\":\"H:/FOOD_CLASSIFY/food-101/meta/train.json\",\n",
    "    \"Test\":\"H:/FOOD_CLASSIFY/food-101/meta/test.json\"\n",
    "}\n",
    "\n",
    "#Create a root directory for saving images\n",
    "Root_processed_folder=\"H:/FOOD_CLASSIFY/Image_collection\"\n",
    "os.makedirs(Root_processed_folder,exist_ok=True)\n",
    "\n",
    "\n",
    "#Make train and test folder\n",
    "Root_image_path=\"H:/FOOD_CLASSIFY/food-101/images\"\n",
    "for key,value in meta_files.items():\n",
    "    os.makedirs(Root_processed_folder+\"/\"+key,exist_ok=True)\n",
    "\n",
    "    #Read the json file\n",
    "    F=open(value,'r')\n",
    "    Images=json.load(F)\n",
    "    for Image_name,Images_path in Images.items():\n",
    "        New_path=Root_processed_folder+\"/\"+key+\"/\"+Image_name\n",
    "        os.makedirs(New_path,exist_ok=True)\n",
    "\n",
    "        for Imgs in Images_path:\n",
    "            Img=Root_image_path+\"/\"+Imgs+\".jpg\"\n",
    "            shutil.move(Img,New_path)"
   ]
  }
 ],
 "metadata": {
  "kernelspec": {
   "display_name": "base",
   "language": "python",
   "name": "python3"
  },
  "language_info": {
   "codemirror_mode": {
    "name": "ipython",
    "version": 3
   },
   "file_extension": ".py",
   "mimetype": "text/x-python",
   "name": "python",
   "nbconvert_exporter": "python",
   "pygments_lexer": "ipython3",
   "version": "3.10.8 | packaged by conda-forge | (main, Nov 24 2022, 14:07:00) [MSC v.1916 64 bit (AMD64)]"
  },
  "orig_nbformat": 4,
  "vscode": {
   "interpreter": {
    "hash": "972634ce379db47b59801b90472a9331a580bc1b16dfd632b751099b21f1c24c"
   }
  }
 },
 "nbformat": 4,
 "nbformat_minor": 2
}
